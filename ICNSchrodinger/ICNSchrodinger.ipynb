{
 "cells": [
  {
   "cell_type": "code",
   "execution_count": null,
   "metadata": {},
   "outputs": [],
   "source": [
    "import cmath as cm           # For dealing with complex numbers\n",
    "import numpy as np           # For dealing with arrays\n",
    "\n",
    "from initializing import *   # Importing this initialized arrays with the choice of potential distribution and initial wavefunction\n",
    "from integrator import *     # This module has functions to integrate and animate"
   ]
  },
  {
   "cell_type": "code",
   "execution_count": null,
   "metadata": {},
   "outputs": [],
   "source": [
    "import matplotlib.pyplot as plt  # For plotting purposes\n",
    "\n",
    "#Graph Parameters\n",
    "plt.rcParams['figure.figsize'] = 15, 10\n",
    "plt.rc('text', usetex=False)\n",
    "plt.rcParams.update({'font.size': 20})\n",
    "plt.rcParams['font.family'] = 'serif'"
   ]
  },
  {
   "cell_type": "markdown",
   "metadata": {},
   "source": [
    "The main equation that needs to be solved is \n",
    "$$\n",
    "\\Psi^{n+1}_{i+1} + \\Psi^{n+1}_{i-1} + A_i \\Psi^{n+1}_{i} = B_i \n",
    "$$\n",
    "\n",
    "This is a set of linear equations that determines $\\Psi^{n+1}$ in terms of $\\Psi^n$. We define A and B in the following fashion - \n",
    "$$\n",
    "A_i = -2 + \\frac{4im\\Delta x^2}{\\hbar \\Delta t} - \\frac{2m\\Delta x^2}{\\hbar^2}V_i^{n+1}\n",
    "$$\n",
    "$$\n",
    "B_i = -\\Psi^n_{i+1} -\\Psi^n_{i-1} + \\Psi^n_{i} \\left(2 + \\frac{4im\\Delta x^2}{\\hbar \\Delta t} + \\frac{2m\\Delta x^2}{\\hbar^2}V_i^{n}\\right)\n",
    "$$\n",
    "\n",
    "$V_i$ is the potential at position $i$. Using $A$ and $B$, we define other quantities \n",
    "\n",
    "$$\n",
    "U_1 = 1/A_1; U_2 = 1/(A_2 - U_1)\n",
    "$$\n",
    "$$\n",
    "R_1 = B_1  U_1 ; R_2 = (A_2 - R_1)U_2\n",
    "$$\n",
    "It can be written in general as\n",
    "$$\n",
    "U_1 = \\frac{1}{A_1}; U_i  = \\frac{1}{A_i - U_{i-1}}\n",
    "$$ \n",
    "$$\n",
    "R_1 = B_1 U _1 ; R_i = (B_i - R_{i-1}) U_i\n",
    "$$\n",
    "\n",
    "We solve this from the bottom up. So, we get\n",
    "\n",
    "$$\n",
    "\\Psi_i^{n+1} = R_i - U_i \\Psi_{i+1}^{n+1}\n",
    "$$\n",
    "where $n$ represents the time axis and $i$ represents the spatial axis."
   ]
  },
  {
   "cell_type": "code",
   "execution_count": null,
   "metadata": {},
   "outputs": [],
   "source": [
    "# Filling the Psi array with solutions from ICN integrator\n",
    "Psi = ICNevolve()"
   ]
  },
  {
   "cell_type": "markdown",
   "metadata": {},
   "source": [
    "## Generating Figures\n",
    "\n",
    "#### Initial Condition and Potential Distribution"
   ]
  },
  {
   "cell_type": "code",
   "execution_count": null,
   "metadata": {},
   "outputs": [],
   "source": [
    "up, down = (Psi[0].real).max(), (Psi[0].real).min()                   #Adjusting the limit of the graph\n",
    "\n",
    "plt.plot(x, (Psi[0]).real, label=r\"Wavefunction $\\Psi(x)$\")\n",
    "plt.plot(x, mod(Psi[0])**2, label=r\"Probablity Distribution $|\\Psi(x)|^2$\")\n",
    "plt.plot(x, p, 'k--', label=\"Potential\")\n",
    "# plt.ylim([down*1.25, up*1.25])\n",
    "plt.title(\"Initial State of the System\")\n",
    "plt.xlabel(\"X\")\n",
    "plt.legend()\n",
    "plt.grid()"
   ]
  },
  {
   "cell_type": "markdown",
   "metadata": {},
   "source": [
    "#### Time Evolution of Probability Distribution"
   ]
  },
  {
   "cell_type": "code",
   "execution_count": null,
   "metadata": {},
   "outputs": [],
   "source": [
    "n = 9              # Number of curves I want to plot\n",
    "m = int(len(t)/n)  # Interval in terms of time index\n",
    "\n",
    "#Plotting several Probablity distributions evolving in time\n",
    "for k in range(0, n):\n",
    "    plt.plot(x, mod(Psi[k * m])**2, label='$t = {:}$'.format(np.round(t[k*m], 2)))   \n",
    "    \n",
    "plt.plot(x, p, 'k--', label=\"Potential\")\n",
    "plt.legend()\n",
    "plt.ylim([-0.01, 0.12])\n",
    "plt.xlabel(\"X-Position\")\n",
    "plt.title(r\"Probablity Distribution Evolution $|\\Psi(x)|^2$\")\n",
    "plt.savefig(\"fig/FiniteStepProbab.png\")\n",
    "plt.grid()"
   ]
  },
  {
   "cell_type": "markdown",
   "metadata": {},
   "source": [
    "#### Real and Imaginary Components of Wavefunction"
   ]
  },
  {
   "cell_type": "code",
   "execution_count": null,
   "metadata": {},
   "outputs": [],
   "source": [
    "fig, (ax1, ax2) = plt.subplots(1, 2, figsize=(25, 10))\n",
    "for k in range(0, 40, 4):\n",
    "    ax1.plot(x, (Psi[k].real), label='$\\Psi(x, t = {:})$'.format(np.round(t[k], 2)))\n",
    "#     ax1.set_ylim(-0.15, 0.15)\n",
    "    ax1.set_xlabel('X Position')\n",
    "    ax1.set_title(\"Wavefunction Real Part\")\n",
    "    ax2.plot(x, (Psi[k].imag), label='$\\Psi(x, t = {:})$'.format(np.round(t[k], 2)))\n",
    "    ax2.set_xlabel('X Position')\n",
    "    ax2.set_title(\"Wavefunction Imaginary Part\")\n",
    "#     ax2.set_ylim(-0.15, 0.15)\n",
    "\n",
    "\n",
    "ax2.plot(x, p, 'kx--', label=\"Potential\")\n",
    "ax1.plot(x, p, 'kx--')\n",
    "ax1.grid()\n",
    "ax2.grid()\n",
    "plt.legend()\n",
    "fig.suptitle(\"Wavefunction \\n Evolution\")\n",
    "plt.savefig(\"fig/FiniteStepWaveFun.png\")"
   ]
  },
  {
   "cell_type": "markdown",
   "metadata": {},
   "source": [
    "#### Checking for Normalization"
   ]
  },
  {
   "cell_type": "code",
   "execution_count": null,
   "metadata": {},
   "outputs": [],
   "source": [
    "probab = []\n",
    "for i in range(len(t)):\n",
    "    probab.append(np.sum(mod(Psi[i])**2))\n",
    "    \n",
    "\n",
    "plt.plot(t[:-1], probab[:-1])  \n",
    "plt.ylim([0.9, 1.1])\n",
    "plt.xlabel(\"Time $t$\")\n",
    "plt.ylabel(\"Total Probability $\\sum_{x=0}^{L} |\\Psi(x)|^2$\")\n",
    "plt.title(r\"Wavefunction Normalization Check\")"
   ]
  },
  {
   "cell_type": "code",
   "execution_count": null,
   "metadata": {},
   "outputs": [],
   "source": [
    "# Running the following cell would render an animation of wavefunction evolution \n",
    "# Takes considerable time to run\n",
    "\n",
    "animate()"
   ]
  }
 ],
 "metadata": {
  "kernelspec": {
   "display_name": "Python 3",
   "language": "python",
   "name": "python3"
  },
  "language_info": {
   "codemirror_mode": {
    "name": "ipython",
    "version": 3
   },
   "file_extension": ".py",
   "mimetype": "text/x-python",
   "name": "python",
   "nbconvert_exporter": "python",
   "pygments_lexer": "ipython3",
   "version": "3.7.6"
  }
 },
 "nbformat": 4,
 "nbformat_minor": 4
}
